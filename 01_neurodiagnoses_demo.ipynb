{
 "cells": [
  {
   "cell_type": "code",
   "execution_count": 2,
   "id": "5e4d5f12-2b92-4337-99e0-1d8b7a71c1f6",
   "metadata": {},
   "outputs": [
    {
     "ename": "SyntaxError",
     "evalue": "invalid syntax (129856700.py, line 3)",
     "output_type": "error",
     "traceback": [
      "  \u001b[36mCell\u001b[39m\u001b[36m \u001b[39m\u001b[32mIn[2]\u001b[39m\u001b[32m, line 3\u001b[39m\n\u001b[31m    \u001b[39m\u001b[31mThis notebook demonstrates the core functionalities of the Neurodiagnoses framework:\u001b[39m\n         ^\n\u001b[31mSyntaxError\u001b[39m\u001b[31m:\u001b[39m invalid syntax\n"
     ]
    }
   ],
   "source": [
    "# Neurodiagnoses: Annotation and Prediction Demo\n",
    "\n",
    "This notebook demonstrates the core functionalities of the Neurodiagnoses framework:\n",
    "1.  **Command-Line Annotation:** How to use the `annotate.py` tool to generate a full tridimensional annotation.\n",
    "2.  **Direct Pipeline Usage:** How to load and use the Axis 3 ML pipeline directly for predictions in a Python environment."
   ]
  },
  {
   "cell_type": "code",
   "execution_count": 3,
   "id": "21e1f360-dc2b-4e66-98be-facffa927471",
   "metadata": {},
   "outputs": [
    {
     "name": "stdout",
     "output_type": "stream",
     "text": [
      "✅ Setup complete. Paths are defined.\n"
     ]
    }
   ],
   "source": [
    "# Import necessary libraries and define key paths\n",
    "import os\n",
    "import json\n",
    "from tools.ml_pipelines.pipelines_axis3 import Axis3Pipeline\n",
    "\n",
    "# This simulates running the CLI tool from within the notebook\n",
    "# Note: The tool is designed to be run with `python -m`, so we use os.system for a realistic demo.\n",
    "ANNOTATOR_CMD = \"python -m tools.annotator.annotate\"\n",
    "INPUT_JSON_PATH = \"tools/annotator/caso_predictivo.json\"\n",
    "OUTPUT_TXT_PATH = \"tools/annotator/notebook_annotation_output.txt\"\n",
    "\n",
    "print(\"✅ Setup complete. Paths are defined.\")"
   ]
  },
  {
   "cell_type": "code",
   "execution_count": 4,
   "id": "68b148ef-54bd-423c-98e8-c152dd570a18",
   "metadata": {},
   "outputs": [
    {
     "ename": "SyntaxError",
     "evalue": "invalid syntax (3471027455.py, line 3)",
     "output_type": "error",
     "traceback": [
      "  \u001b[36mCell\u001b[39m\u001b[36m \u001b[39m\u001b[32mIn[4]\u001b[39m\u001b[32m, line 3\u001b[39m\n\u001b[31m    \u001b[39m\u001b[31mHere we simulate calling our annotation tool from the command line. It will read the `caso_predictivo.json` file, invoke the ML pipeline, and generate a full annotation string in a new output file.\u001b[39m\n         ^\n\u001b[31mSyntaxError\u001b[39m\u001b[31m:\u001b[39m invalid syntax\n"
     ]
    }
   ],
   "source": [
    "## 1. Demo: Command-Line Annotation Tool\n",
    "\n",
    "Here we simulate calling our annotation tool from the command line. It will read the `caso_predictivo.json` file, invoke the ML pipeline, and generate a full annotation string in a new output file."
   ]
  },
  {
   "cell_type": "code",
   "execution_count": 5,
   "id": "5e707cd6-cd8c-4165-aa85-268e4568214d",
   "metadata": {},
   "outputs": [
    {
     "name": "stdout",
     "output_type": "stream",
     "text": [
      "Executing command:\n",
      "> python -m tools.annotator.annotate --input tools/annotator/caso_predictivo.json --output tools/annotator/notebook_annotation_output.txt\n",
      "\n",
      "\n",
      "--- Content of the generated annotation file ---\n",
      "[2025-07-21]: Sporadic (APOE4 carrier, hypertension, hypercholesterolemia) / amyloid beta, tau; NfL, GFAP, vascular dysfunction markers / right hippocampus: memory deficits; parietal lobe: visuospatial impairment (?)\n"
     ]
    }
   ],
   "source": [
    "# Construct the full command\n",
    "full_command = f\"{ANNOTATOR_CMD} --input {INPUT_JSON_PATH} --output {OUTPUT_TXT_PATH}\"\n",
    "\n",
    "print(f\"Executing command:\\n> {full_command}\\n\")\n",
    "\n",
    "# Run the command\n",
    "os.system(full_command)\n",
    "\n",
    "# Print the result from the output file\n",
    "print(\"\\n--- Content of the generated annotation file ---\")\n",
    "with open(OUTPUT_TXT_PATH, 'r') as f:\n",
    "    print(f.read())"
   ]
  },
  {
   "cell_type": "code",
   "execution_count": 6,
   "id": "fbbe5a07-6c09-4737-8722-6a97db382b4b",
   "metadata": {},
   "outputs": [
    {
     "ename": "SyntaxError",
     "evalue": "invalid syntax (4069813187.py, line 3)",
     "output_type": "error",
     "traceback": [
      "  \u001b[36mCell\u001b[39m\u001b[36m \u001b[39m\u001b[32mIn[6]\u001b[39m\u001b[32m, line 3\u001b[39m\n\u001b[31m    \u001b[39m\u001b[31mFor more advanced use cases or debugging, you can import and use the `Axis3Pipeline` class directly. This allows you to integrate the prediction logic into other Python applications.\u001b[39m\n        ^\n\u001b[31mSyntaxError\u001b[39m\u001b[31m:\u001b[39m invalid syntax\n"
     ]
    }
   ],
   "source": [
    "## 2. Demo: Direct Pipeline Usage\n",
    "\n",
    "For more advanced use cases or debugging, you can import and use the `Axis3Pipeline` class directly. This allows you to integrate the prediction logic into other Python applications."
   ]
  },
  {
   "cell_type": "code",
   "execution_count": null,
   "id": "7272069e-d80f-42f5-8ba9-6bdd7f506c24",
   "metadata": {},
   "outputs": [],
   "source": [
    "# Load the pipeline\n",
    "print(\"Loading the Axis 3 pipeline...\")\n",
    "pipeline = Axis3Pipeline()\n",
    "print(\"Pipeline loaded successfully.\")\n",
    "\n",
    "# Define some sample input data\n",
    "sample_data = {\n",
    "    \"hippocampal_volume\": 3.2,\n",
    "    \"cortical_thickness\": 1.8,\n",
    "    \"ventricular_volume\": 42.5,\n",
    "    \"age\": 68,\n",
    "    \"MMSE\": 24\n",
    "}\n",
    "\n",
    "# Get a prediction\n",
    "print(f\"\\nPredicting phenotype for sample data:\\n{json.dumps(sample_data, indent=2)}\")\n",
    "predicted_phenotype = pipeline.predict(sample_data)\n",
    "\n",
    "print(f\"\\nPredicted Phenotype: \\n> {predicted_phenotype}\")"
   ]
  },
  {
   "cell_type": "code",
   "execution_count": null,
   "id": "5aef8909-0023-4695-86ec-a44acc72bd73",
   "metadata": {},
   "outputs": [],
   "source": []
  },
  {
   "cell_type": "code",
   "execution_count": null,
   "id": "c4815f6b-2cf5-42a0-8609-a46e49d0e1df",
   "metadata": {},
   "outputs": [],
   "source": []
  },
  {
   "cell_type": "code",
   "execution_count": null,
   "id": "ea36bbc1-8962-4d3a-aae6-d91de839dcce",
   "metadata": {},
   "outputs": [],
   "source": []
  },
  {
   "cell_type": "code",
   "execution_count": null,
   "id": "901b9679-c42e-4e80-96dc-0a9385add179",
   "metadata": {},
   "outputs": [],
   "source": []
  },
  {
   "cell_type": "code",
   "execution_count": null,
   "id": "ed96ba19-36b1-4eda-bdde-ed3200b6c284",
   "metadata": {},
   "outputs": [],
   "source": []
  },
  {
   "cell_type": "code",
   "execution_count": null,
   "id": "41111617-32b7-4090-9e42-ccd94eb71676",
   "metadata": {},
   "outputs": [],
   "source": []
  },
  {
   "cell_type": "code",
   "execution_count": null,
   "id": "a583a06f-af9f-4c2f-b1a3-d9e15c766865",
   "metadata": {},
   "outputs": [],
   "source": []
  },
  {
   "cell_type": "code",
   "execution_count": null,
   "id": "e4568cd2-286c-4646-9178-68722851b9ba",
   "metadata": {},
   "outputs": [],
   "source": []
  },
  {
   "cell_type": "code",
   "execution_count": null,
   "id": "2ea82145-0c7a-402e-bc2e-31214a8fa4fb",
   "metadata": {},
   "outputs": [],
   "source": []
  },
  {
   "cell_type": "code",
   "execution_count": null,
   "id": "dc66b25c-3182-41c9-9774-339360987dc9",
   "metadata": {},
   "outputs": [],
   "source": []
  },
  {
   "cell_type": "code",
   "execution_count": null,
   "id": "aca3d831-abfe-45b9-87c3-50ea41fb2e6a",
   "metadata": {},
   "outputs": [],
   "source": []
  },
  {
   "cell_type": "code",
   "execution_count": null,
   "id": "3a74303c-f33c-4068-abf1-6d1474f3be10",
   "metadata": {},
   "outputs": [],
   "source": []
  },
  {
   "cell_type": "code",
   "execution_count": null,
   "id": "7a2fc5da-22b2-4058-8d1f-e83c8250444f",
   "metadata": {},
   "outputs": [],
   "source": []
  },
  {
   "cell_type": "code",
   "execution_count": null,
   "id": "debf9225-3361-49b8-8df2-420e5d3d5c5c",
   "metadata": {},
   "outputs": [],
   "source": []
  },
  {
   "cell_type": "code",
   "execution_count": null,
   "id": "7a6926ba-0038-4e22-86d1-70b090b7eb36",
   "metadata": {},
   "outputs": [],
   "source": []
  },
  {
   "cell_type": "code",
   "execution_count": null,
   "id": "87ed6278-0620-468a-95d9-d9ed5a690d97",
   "metadata": {},
   "outputs": [],
   "source": []
  },
  {
   "cell_type": "code",
   "execution_count": null,
   "id": "25a59659-531e-4b09-be75-0f7a9554e3f7",
   "metadata": {},
   "outputs": [],
   "source": []
  }
 ],
 "metadata": {
  "kernelspec": {
   "display_name": "Python 3 (ipykernel)",
   "language": "python",
   "name": "python3"
  },
  "language_info": {
   "codemirror_mode": {
    "name": "ipython",
    "version": 3
   },
   "file_extension": ".py",
   "mimetype": "text/x-python",
   "name": "python",
   "nbconvert_exporter": "python",
   "pygments_lexer": "ipython3",
   "version": "3.13.3"
  }
 },
 "nbformat": 4,
 "nbformat_minor": 5
}
